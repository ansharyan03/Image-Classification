{
 "cells": [
  {
   "cell_type": "markdown",
   "id": "adjusted-money",
   "metadata": {},
   "source": [
    "# Importing Data"
   ]
  },
  {
   "cell_type": "code",
   "execution_count": 1,
   "id": "light-holiday",
   "metadata": {
    "gather": {
     "logged": 1615834478685
    }
   },
   "outputs": [],
   "source": [
    "import tensorflow as tf\n",
    "import numpy as np\n",
    "from tensorflow import keras\n",
    "from tensorflow.keras import datasets as ds"
   ]
  },
  {
   "cell_type": "markdown",
   "id": "above-earthquake",
   "metadata": {
    "nteract": {
     "transient": {
      "deleting": false
     }
    }
   },
   "source": [
    "# Preparing data"
   ]
  },
  {
   "cell_type": "code",
   "execution_count": 2,
   "id": "worldwide-popularity",
   "metadata": {
    "gather": {
     "logged": 1615834480486
    }
   },
   "outputs": [],
   "source": [
    "(X_train, y_train), (X_test, y_test) = ds.cifar10.load_data()\n",
    "classes = [\"airplane\",\"automobile\",\"bird\",\"cat\",\"deer\",\"dog\",\"frog\",\"horse\",\"ship\",\"truck\"]\n",
    "y_train2 = np.ndarray(shape=(50000, 10))\n",
    "y_test2 = np.ndarray(shape=(10000, 10))\n",
    "for row in range(len(y_train)):\n",
    "    temp = y_train[row, 0]\n",
    "    rowToAdd = np.ndarray(shape=(1,10))\n",
    "    for var in range(10):\n",
    "        rowToAdd[0, var] = 0\n",
    "        if temp == var:\n",
    "            rowToAdd[0, var] = 1\n",
    "    y_train2[row,] = rowToAdd\n",
    "for row in range(len(y_test)):\n",
    "    temp = y_test[row, 0]\n",
    "    rowToAdd = np.ndarray(shape=(1,10))\n",
    "    for var in range(10):\n",
    "        rowToAdd[0, var] = 0\n",
    "        if temp == var:\n",
    "            rowToAdd[0, var] = 1\n",
    "    y_test2[row,] = rowToAdd\n"
   ]
  },
  {
   "cell_type": "markdown",
   "id": "standard-evanescence",
   "metadata": {
    "nteract": {
     "transient": {
      "deleting": false
     }
    }
   },
   "source": [
    "# Training model"
   ]
  },
  {
   "cell_type": "code",
   "execution_count": 3,
   "id": "exact-translation",
   "metadata": {
    "gather": {
     "logged": 1615838946740
    },
    "scrolled": true
   },
   "outputs": [
    {
     "name": "stdout",
     "output_type": "stream",
     "text": [
      "Epoch 1/50\n",
      "1562/1562 [==============================] - 60s 38ms/step - loss: 1.8352 - accuracy: 0.3232: 0s - loss: 1.8359 - accura\n",
      "Epoch 2/50\n",
      "1562/1562 [==============================] - 62s 39ms/step - loss: 1.4630 - accuracy: 0.4720\n",
      "Epoch 3/50\n",
      "1562/1562 [==============================] - 60s 38ms/step - loss: 1.3585 - accuracy: 0.5193\n",
      "Epoch 4/50\n",
      "1562/1562 [==============================] - 60s 39ms/step - loss: 1.3036 - accuracy: 0.5333\n",
      "Epoch 5/50\n",
      "1562/1562 [==============================] - 62s 40ms/step - loss: 1.2456 - accuracy: 0.5572\n",
      "Epoch 6/50\n",
      "1562/1562 [==============================] - 59s 38ms/step - loss: 1.2260 - accuracy: 0.5689\n",
      "Epoch 7/50\n",
      "1562/1562 [==============================] - 51s 33ms/step - loss: 1.1943 - accuracy: 0.5829\n",
      "Epoch 8/50\n",
      "1562/1562 [==============================] - 58s 37ms/step - loss: 1.1884 - accuracy: 0.58360s - loss: 1.1885 - accu\n",
      "Epoch 9/50\n",
      "1562/1562 [==============================] - 57s 36ms/step - loss: 1.1580 - accuracy: 0.5991\n",
      "Epoch 10/50\n",
      "1562/1562 [==============================] - 61s 39ms/step - loss: 1.1376 - accuracy: 0.6012\n",
      "Epoch 11/50\n",
      "1562/1562 [==============================] - 67s 43ms/step - loss: 1.1474 - accuracy: 0.5973\n",
      "Epoch 12/50\n",
      "1562/1562 [==============================] - 72s 46ms/step - loss: 1.1489 - accuracy: 0.5987\n",
      "Epoch 13/50\n",
      "1562/1562 [==============================] - 69s 44ms/step - loss: 1.1192 - accuracy: 0.6078\n",
      "Epoch 14/50\n",
      "1562/1562 [==============================] - 65s 42ms/step - loss: 1.1252 - accuracy: 0.6111\n",
      "Epoch 15/50\n",
      "1562/1562 [==============================] - 61s 39ms/step - loss: 1.1263 - accuracy: 0.61290s - loss: 1.1263 - accuracy: 0.61\n",
      "Epoch 16/50\n",
      "1562/1562 [==============================] - 58s 37ms/step - loss: 1.1227 - accuracy: 0.6118\n",
      "Epoch 17/50\n",
      "1562/1562 [==============================] - 64s 41ms/step - loss: 1.1179 - accuracy: 0.60951s - l\n",
      "Epoch 18/50\n",
      "1562/1562 [==============================] - 61s 39ms/step - loss: 1.1315 - accuracy: 0.6095\n",
      "Epoch 19/50\n",
      "1562/1562 [==============================] - 61s 39ms/step - loss: 1.1214 - accuracy: 0.6162\n",
      "Epoch 20/50\n",
      "1562/1562 [==============================] - 57s 37ms/step - loss: 1.1289 - accuracy: 0.6109\n",
      "Epoch 21/50\n",
      "1562/1562 [==============================] - 56s 36ms/step - loss: 1.1292 - accuracy: 0.6113\n",
      "Epoch 22/50\n",
      "1562/1562 [==============================] - 59s 38ms/step - loss: 1.1323 - accuracy: 0.6140\n",
      "Epoch 23/50\n",
      "1562/1562 [==============================] - 58s 37ms/step - loss: 1.1261 - accuracy: 0.6135\n",
      "Epoch 24/50\n",
      "1562/1562 [==============================] - 59s 38ms/step - loss: 1.1250 - accuracy: 0.6114\n",
      "Epoch 25/50\n",
      "1562/1562 [==============================] - 61s 39ms/step - loss: 1.1410 - accuracy: 0.60851s\n",
      "Epoch 26/50\n",
      "1562/1562 [==============================] - 59s 37ms/step - loss: 1.1476 - accuracy: 0.6074\n",
      "Epoch 27/50\n",
      "1562/1562 [==============================] - 59s 38ms/step - loss: 1.1526 - accuracy: 0.6087\n",
      "Epoch 28/50\n",
      "1562/1562 [==============================] - 52s 34ms/step - loss: 1.1519 - accuracy: 0.6048\n",
      "Epoch 29/50\n",
      "1562/1562 [==============================] - 60s 38ms/step - loss: 1.1449 - accuracy: 0.6093\n",
      "Epoch 30/50\n",
      "1562/1562 [==============================] - 59s 38ms/step - loss: 1.1527 - accuracy: 0.6066\n",
      "Epoch 31/50\n",
      "1562/1562 [==============================] - 61s 39ms/step - loss: 1.1492 - accuracy: 0.6120\n",
      "Epoch 32/50\n",
      "1562/1562 [==============================] - 64s 41ms/step - loss: 1.1538 - accuracy: 0.6051\n",
      "Epoch 33/50\n",
      "1562/1562 [==============================] - 58s 37ms/step - loss: 1.1620 - accuracy: 0.6039\n",
      "Epoch 34/50\n",
      "1562/1562 [==============================] - 60s 39ms/step - loss: 1.1520 - accuracy: 0.6067\n",
      "Epoch 35/50\n",
      "1562/1562 [==============================] - 58s 37ms/step - loss: 1.1521 - accuracy: 0.6048\n",
      "Epoch 36/50\n",
      "1562/1562 [==============================] - 61s 39ms/step - loss: 1.1609 - accuracy: 0.6038\n",
      "Epoch 37/50\n",
      "1562/1562 [==============================] - 62s 40ms/step - loss: 1.1516 - accuracy: 0.6063\n",
      "Epoch 38/50\n",
      "1562/1562 [==============================] - 59s 38ms/step - loss: 1.1606 - accuracy: 0.6043\n",
      "Epoch 39/50\n",
      "1562/1562 [==============================] - 60s 38ms/step - loss: 1.1619 - accuracy: 0.60100s - loss: 1.1619 - accuracy: 0.\n",
      "Epoch 40/50\n",
      "1562/1562 [==============================] - 57s 37ms/step - loss: 1.1759 - accuracy: 0.5992\n",
      "Epoch 41/50\n",
      "1562/1562 [==============================] - 58s 37ms/step - loss: 1.1693 - accuracy: 0.6009\n",
      "Epoch 42/50\n",
      "1562/1562 [==============================] - 59s 38ms/step - loss: 1.1706 - accuracy: 0.6015\n",
      "Epoch 43/50\n",
      "1562/1562 [==============================] - 57s 37ms/step - loss: 1.1670 - accuracy: 0.6011\n",
      "Epoch 44/50\n",
      "1562/1562 [==============================] - 56s 36ms/step - loss: 1.1824 - accuracy: 0.5969\n",
      "Epoch 45/50\n",
      "1562/1562 [==============================] - 58s 37ms/step - loss: 1.1742 - accuracy: 0.5963\n",
      "Epoch 46/50\n",
      "1562/1562 [==============================] - 72s 46ms/step - loss: 1.1936 - accuracy: 0.59040s - loss: 1.1936 - accura\n",
      "Epoch 47/50\n",
      "1562/1562 [==============================] - 85s 55ms/step - loss: 1.1822 - accuracy: 0.59500s - loss: 1.1822 - \n",
      "Epoch 48/50\n",
      "1562/1562 [==============================] - 79s 50ms/step - loss: 1.1777 - accuracy: 0.5955\n",
      "Epoch 49/50\n",
      "1562/1562 [==============================] - 72s 46ms/step - loss: 1.1769 - accuracy: 0.5966\n",
      "Epoch 50/50\n",
      "1562/1562 [==============================] - 76s 49ms/step - loss: 1.1911 - accuracy: 0.5908\n",
      "Model: \"sequential\"\n",
      "_________________________________________________________________\n",
      "Layer (type)                 Output Shape              Param #   \n",
      "=================================================================\n",
      "conv2d (Conv2D)              (None, 30, 30, 32)        896       \n",
      "_________________________________________________________________\n",
      "max_pooling2d (MaxPooling2D) (None, 15, 15, 32)        0         \n",
      "_________________________________________________________________\n",
      "conv2d_1 (Conv2D)            (None, 13, 13, 64)        18496     \n",
      "_________________________________________________________________\n",
      "max_pooling2d_1 (MaxPooling2 (None, 6, 6, 64)          0         \n",
      "_________________________________________________________________\n",
      "dropout (Dropout)            (None, 6, 6, 64)          0         \n",
      "_________________________________________________________________\n",
      "flatten (Flatten)            (None, 2304)              0         \n",
      "_________________________________________________________________\n",
      "dense (Dense)                (None, 64)                147520    \n",
      "_________________________________________________________________\n",
      "dense_1 (Dense)              (None, 10)                650       \n",
      "=================================================================\n",
      "Total params: 167,562\n",
      "Trainable params: 167,562\n",
      "Non-trainable params: 0\n",
      "_________________________________________________________________\n",
      "None\n"
     ]
    }
   ],
   "source": [
    "from tensorflow.keras.models import Sequential\n",
    "from tensorflow.keras.layers import Conv2D, MaxPooling2D, Dropout, Flatten, Dense\n",
    "from tensorflow.keras.preprocessing.image import ImageDataGenerator\n",
    "\n",
    "with tf.device('/gpu:0'):\n",
    "    model = Sequential()\n",
    "    model.add(Conv2D(filters=32, kernel_size=(3, 3), input_shape=(32, 32, 3), activation='relu'))\n",
    "    model.add(MaxPooling2D(pool_size=(2,2)))\n",
    "    \n",
    "    model.add(Conv2D(filters=64, kernel_size=(3, 3), activation='relu'))\n",
    "    model.add(MaxPooling2D(pool_size=(2, 2)))\n",
    "        \n",
    "#     model.add(Conv2D(64, (3, 3), activation='relu'))\n",
    "#     model.add(MaxPooling2D(pool_size=(2, 2)))\n",
    "\n",
    "    model.add(Dropout(0.2))\n",
    "    model.add(Flatten())\n",
    "    \n",
    "#     model.add(Dense(64, activation='relu'))\n",
    "    model.add(Dense(10, activation='softmax'))\n",
    "\n",
    "    model.compile(loss='categorical_crossentropy',\n",
    "                  optimizer='rmsprop',\n",
    "                  metrics=['accuracy'])\n",
    "    datagen = ImageDataGenerator(\n",
    "        rescale=1./255,\n",
    "        featurewise_center=True,\n",
    "        rotation_range=20,\n",
    "        width_shift_range=0.2,\n",
    "        height_shift_range=0.2,\n",
    "        shear_range=0.2,\n",
    "        zoom_range=0.2,\n",
    "        horizontal_flip=True,\n",
    "        fill_mode = 'nearest')\n",
    "    datagen.fit(X_train)\n",
    "    # fits the model on batches with real-time data augmentation:\n",
    "    model.fit(datagen.flow(X_train, y_train2, batch_size=32),\n",
    "            steps_per_epoch=len(X_train) / 32, epochs=50)\n",
    "    print(model.summary())"
   ]
  },
  {
   "cell_type": "code",
   "execution_count": null,
   "id": "hindu-particular",
   "metadata": {
    "gather": {
     "logged": 1614438429206
    }
   },
   "outputs": [],
   "source": [
    "import sklearn\n",
    "from sklearn.metrics import accuracy_score\n",
    "y_pred = model.predict(X_test)\n",
    "print(\"accuracy: \" + sklearn.metrics.accuracy_score(y_pred, y_test))\n",
    "modelFileName = '../Models/cifar_images.h5'\n",
    "model.save(modelFileName)\n",
    "#del model  # deletes the existing model variable\n",
    "print('model saved as', modelFileName)"
   ]
  },
  {
   "cell_type": "code",
   "execution_count": null,
   "id": "charitable-assembly",
   "metadata": {},
   "outputs": [],
   "source": []
  }
 ],
 "metadata": {
  "kernel_info": {
   "name": "python3"
  },
  "kernelspec": {
   "display_name": "Python 3",
   "language": "python",
   "name": "python3"
  },
  "language_info": {
   "codemirror_mode": {
    "name": "ipython",
    "version": 3
   },
   "file_extension": ".py",
   "mimetype": "text/x-python",
   "name": "python",
   "nbconvert_exporter": "python",
   "pygments_lexer": "ipython3",
   "version": "3.8.5"
  },
  "microsoft": {
   "host": {
    "AzureML": {
     "notebookHasBeenCompleted": true
    }
   }
  },
  "nteract": {
   "version": "nteract-front-end@1.0.0"
  }
 },
 "nbformat": 4,
 "nbformat_minor": 5
}
