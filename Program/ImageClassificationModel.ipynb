{
 "cells": [
  {
   "cell_type": "markdown",
   "id": "republican-arthritis",
   "metadata": {},
   "source": [
    "# Importing Data"
   ]
  },
  {
   "cell_type": "code",
   "execution_count": 1,
   "id": "selective-bargain",
   "metadata": {},
   "outputs": [],
   "source": [
    "import tensorflow as tf\n",
    "import numpy as np\n",
    "from tensorflow import keras\n",
    "from tensorflow.keras import datasets as ds"
   ]
  },
  {
   "cell_type": "code",
   "execution_count": 2,
   "id": "artificial-preference",
   "metadata": {},
   "outputs": [],
   "source": [
    "(X_train, y_train), (X_test, y_test) = ds.cifar10.load_data()\n",
    "classes = [\"airplane\",\"automobile\",\"bird\",\"cat\",\"deer\",\"dog\",\"frog\",\"horse\",\"ship\",\"truck\"]\n",
    "X_train = X_train/255.0\n",
    "X_test = X_test/255.0\n",
    "y_train2 = np.ndarray(shape=(50000, 10))\n",
    "y_test2 = np.ndarray(shape=(10000, 10))\n",
    "for row in range(len(y_train)):\n",
    "    temp = y_train[row, 0]\n",
    "    rowToAdd = np.ndarray(shape=(1,10))\n",
    "    for var in range(10):\n",
    "        rowToAdd[0, var] = 0\n",
    "        if temp == var:\n",
    "            rowToAdd[0, var] = 1\n",
    "    y_train2[row,] = rowToAdd\n",
    "for row in range(len(y_test)):\n",
    "    temp = y_test[row, 0]\n",
    "    rowToAdd = np.ndarray(shape=(1,10))\n",
    "    for var in range(10):\n",
    "        rowToAdd[0, var] = 0\n",
    "        if temp == var:\n",
    "            rowToAdd[0, var] = 1\n",
    "    y_test2[row,] = rowToAdd\n"
   ]
  },
  {
   "cell_type": "code",
   "execution_count": 3,
   "id": "dated-seeker",
   "metadata": {
    "scrolled": true
   },
   "outputs": [
    {
     "name": "stdout",
     "output_type": "stream",
     "text": [
      "Epoch 1/15\n",
      "1563/1563 [==============================] - 30s 19ms/step - loss: 1.7152 - accuracy: 0.3655\n",
      "Epoch 2/15\n",
      "1563/1563 [==============================] - 30s 19ms/step - loss: 1.4066 - accuracy: 0.4904\n",
      "Epoch 3/15\n",
      "1563/1563 [==============================] - 29s 19ms/step - loss: 1.2980 - accuracy: 0.5360\n",
      "Epoch 4/15\n",
      "1563/1563 [==============================] - 30s 19ms/step - loss: 1.2328 - accuracy: 0.5615\n",
      "Epoch 5/15\n",
      "1563/1563 [==============================] - 30s 19ms/step - loss: 1.1751 - accuracy: 0.5819\n",
      "Epoch 6/15\n",
      "1563/1563 [==============================] - 30s 19ms/step - loss: 1.1329 - accuracy: 0.5996\n",
      "Epoch 7/15\n",
      "1563/1563 [==============================] - 30s 19ms/step - loss: 1.0941 - accuracy: 0.6115\n",
      "Epoch 8/15\n",
      "1563/1563 [==============================] - 27s 17ms/step - loss: 1.0680 - accuracy: 0.6215\n",
      "Epoch 9/15\n",
      "1563/1563 [==============================] - 22s 14ms/step - loss: 1.0375 - accuracy: 0.6354\n",
      "Epoch 10/15\n",
      "1563/1563 [==============================] - 24s 15ms/step - loss: 1.0224 - accuracy: 0.6418\n",
      "Epoch 11/15\n",
      "1563/1563 [==============================] - 23s 14ms/step - loss: 0.9990 - accuracy: 0.6486\n",
      "Epoch 12/15\n",
      "1563/1563 [==============================] - 22s 14ms/step - loss: 0.9766 - accuracy: 0.6561\n",
      "Epoch 13/15\n",
      "1563/1563 [==============================] - 23s 14ms/step - loss: 0.9659 - accuracy: 0.6608\n",
      "Epoch 14/15\n",
      "1563/1563 [==============================] - 22s 14ms/step - loss: 0.9507 - accuracy: 0.6664\n",
      "Epoch 15/15\n",
      "1563/1563 [==============================] - 22s 14ms/step - loss: 0.9389 - accuracy: 0.6710\n",
      "Model: \"sequential\"\n",
      "_________________________________________________________________\n",
      "Layer (type)                 Output Shape              Param #   \n",
      "=================================================================\n",
      "conv2d (Conv2D)              (None, 30, 30, 32)        896       \n",
      "_________________________________________________________________\n",
      "max_pooling2d (MaxPooling2D) (None, 15, 15, 32)        0         \n",
      "_________________________________________________________________\n",
      "conv2d_1 (Conv2D)            (None, 13, 13, 32)        9248      \n",
      "_________________________________________________________________\n",
      "max_pooling2d_1 (MaxPooling2 (None, 6, 6, 32)          0         \n",
      "_________________________________________________________________\n",
      "conv2d_2 (Conv2D)            (None, 4, 4, 32)          9248      \n",
      "_________________________________________________________________\n",
      "max_pooling2d_2 (MaxPooling2 (None, 2, 2, 32)          0         \n",
      "_________________________________________________________________\n",
      "dropout (Dropout)            (None, 2, 2, 32)          0         \n",
      "_________________________________________________________________\n",
      "flatten (Flatten)            (None, 128)               0         \n",
      "_________________________________________________________________\n",
      "dense (Dense)                (None, 10)                1290      \n",
      "=================================================================\n",
      "Total params: 20,682\n",
      "Trainable params: 20,682\n",
      "Non-trainable params: 0\n",
      "_________________________________________________________________\n",
      "None\n"
     ]
    }
   ],
   "source": [
    "from tensorflow.keras.models import Sequential\n",
    "from tensorflow.keras.layers import Conv2D, MaxPooling2D, Dropout, Flatten, Dense\n",
    "\n",
    "with tf.device('/gpu:0'):\n",
    "    model = Sequential()\n",
    "    model.add(Conv2D(filters=32, kernel_size=(3, 3), input_shape=(32, 32, 3), activation='relu'))\n",
    "    model.add(MaxPooling2D(pool_size=(2,2)))\n",
    "\n",
    "    model.add(Conv2D(filters=32, kernel_size=(3, 3), activation='relu'))\n",
    "    model.add(MaxPooling2D(pool_size=(2, 2)))\n",
    "\n",
    "    model.add(Conv2D(32, (3, 3), activation='relu'))\n",
    "    model.add(MaxPooling2D(pool_size=(2, 2)))\n",
    "\n",
    "    model.add(Dropout(0.2))\n",
    "    model.add(Flatten())\n",
    "\n",
    "    model.add(Dense(10, activation='softmax'))\n",
    "\n",
    "    model.compile(loss='categorical_crossentropy',\n",
    "                  optimizer='adam',\n",
    "                  metrics=['accuracy'])\n",
    "\n",
    "    model.fit(X_train, y_train2, epochs=15)\n",
    "    print(model.summary())"
   ]
  },
  {
   "cell_type": "code",
   "execution_count": 4,
   "id": "stable-salmon",
   "metadata": {},
   "outputs": [
    {
     "name": "stdout",
     "output_type": "stream",
     "text": [
      "model saved as ../Models/cifar_images.h5\n"
     ]
    }
   ],
   "source": [
    "modelFileName = '../Models/cifar_images.h5'\n",
    "model.save(modelFileName)\n",
    "del model  # deletes the existing model variable\n",
    "print('model saved as', modelFileName)"
   ]
  }
 ],
 "metadata": {
  "kernelspec": {
   "display_name": "Python 3",
   "language": "python",
   "name": "python3"
  },
  "language_info": {
   "codemirror_mode": {
    "name": "ipython",
    "version": 3
   },
   "file_extension": ".py",
   "mimetype": "text/x-python",
   "name": "python",
   "nbconvert_exporter": "python",
   "pygments_lexer": "ipython3",
   "version": "3.8.5"
  }
 },
 "nbformat": 4,
 "nbformat_minor": 5
}
